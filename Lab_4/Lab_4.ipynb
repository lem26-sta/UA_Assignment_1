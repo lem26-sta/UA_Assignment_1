{
 "cells": [
  {
   "cell_type": "markdown",
   "id": "5031da18-53c3-4785-a4f4-d7c140dd0e4a",
   "metadata": {},
   "source": [
    "# GG4527- Urban Analytics: A Toolkit for Sustainable Urban Development Assignment 1\n",
    "## Lab 4: Python Recap\n",
    "-----"
   ]
  },
  {
   "cell_type": "markdown",
   "id": "9fb72b98-d980-4f90-abc8-1a43a4ccfcdb",
   "metadata": {},
   "source": [
    "### Challenge 1"
   ]
  },
  {
   "cell_type": "markdown",
   "id": "d8b73380-0bfd-4eab-ba61-8a8b1076ffc6",
   "metadata": {},
   "source": [
    "### Challenge 2"
   ]
  },
  {
   "cell_type": "markdown",
   "id": "3b7e5d4b-283f-492b-a565-5a91a32a30f9",
   "metadata": {},
   "source": [
    "### Challenge 3"
   ]
  },
  {
   "cell_type": "code",
   "execution_count": 5,
   "id": "8e9c035b-17ce-4dc8-b31f-c742bfcf1712",
   "metadata": {},
   "outputs": [
    {
     "ename": "NameError",
     "evalue": "name 'SG_SIMD_2020' is not defined",
     "output_type": "error",
     "traceback": [
      "\u001b[0;31m---------------------------------------------------------------------------\u001b[0m",
      "\u001b[0;31mNameError\u001b[0m                                 Traceback (most recent call last)",
      "Cell \u001b[0;32mIn[5], line 5\u001b[0m\n\u001b[1;32m      1\u001b[0m \u001b[38;5;28;01mimport\u001b[39;00m\u001b[38;5;250m \u001b[39m\u001b[38;5;21;01mgeopandas\u001b[39;00m\u001b[38;5;250m \u001b[39m\u001b[38;5;28;01mas\u001b[39;00m\u001b[38;5;250m \u001b[39m\u001b[38;5;21;01mgpd\u001b[39;00m\n\u001b[1;32m      3\u001b[0m path\u001b[38;5;241m=\u001b[39m\u001b[38;5;124m'\u001b[39m\u001b[38;5;124mhttps://drive.google.com/drive/folders/15QVZiWEoOS6uah2thz0BKRBxRgamzVaG\u001b[39m\u001b[38;5;124m'\u001b[39m \u001b[38;5;66;03m# collecting data from google drive\u001b[39;00m\n\u001b[0;32m----> 5\u001b[0m scotland_sf\u001b[38;5;241m=\u001b[39m gpd\u001b[38;5;241m.\u001b[39mread_file(path\u001b[38;5;241m/\u001b[39m\u001b[43mSG_SIMD_2020\u001b[49m\u001b[38;5;241m.\u001b[39mshp)\n",
      "\u001b[0;31mNameError\u001b[0m: name 'SG_SIMD_2020' is not defined"
     ]
    }
   ],
   "source": [
    "import geopandas as gpd\n",
    "\n",
    "path= \"https://drive.google.com/drive/folders/15QVZiWEoOS6uah2thz0BKRBxRgamzVaG\" # collecting data from google drive\n",
    "\n",
    "scotland_sf= gpd.read_file(path/SG_SIMD_2020.shp)\n"
   ]
  },
  {
   "cell_type": "code",
   "execution_count": null,
   "id": "eaed6992-7d85-4b21-9ce1-925f4c696874",
   "metadata": {},
   "outputs": [],
   "source": []
  }
 ],
 "metadata": {
  "kernelspec": {
   "display_name": "Python 3 (ipykernel)",
   "language": "python",
   "name": "python3"
  },
  "language_info": {
   "codemirror_mode": {
    "name": "ipython",
    "version": 3
   },
   "file_extension": ".py",
   "mimetype": "text/x-python",
   "name": "python",
   "nbconvert_exporter": "python",
   "pygments_lexer": "ipython3",
   "version": "3.11.6"
  }
 },
 "nbformat": 4,
 "nbformat_minor": 5
}
