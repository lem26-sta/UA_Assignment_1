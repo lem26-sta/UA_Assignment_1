{
 "cells": [
  {
   "cell_type": "markdown",
   "id": "421cd692-eb83-45f3-9285-f1b851b3857e",
   "metadata": {},
   "source": [
    "# GG4527- Urban Analytics: A Toolkit for Sustainable Urban Development Assignment 1\n",
    "## Lab 1: Python Recap\n",
    "-----\n"
   ]
  },
  {
   "cell_type": "markdown",
   "id": "4cd6f2a7-3065-43b4-a70a-54375227a187",
   "metadata": {},
   "source": [
    "### Challenge 1"
   ]
  },
  {
   "cell_type": "markdown",
   "id": "741fadb1-b0fc-44fa-b6b3-f46eba8debc1",
   "metadata": {},
   "source": [
    "|Road Types| Description|Link|\n",
    "|--------------|--------------|--------------|\n",
    "|**Motorways**| Fast roads connecting major cities| [Motorways](https://en.wikipedia.org/wiki/Category:Motorways_in_Scotland)|\n",
    "|**A Roads**| Routes between towns and cities| [A Roads](https://en.wikipedia.org/wiki/Great_Britain_road_numbering_scheme#A_roads)|\n",
    "|**B Roads**| Smaller roads| [B Roads](https://en.wikipedia.org/wiki/Collector_road)|\n",
    "|**C Roads**| Minor and local roads| [C Roads](https://www.roads.org.uk/photo/c-roads/)|\n",
    "|**Unclassified Roads**| Roads mainly for local access| [Roads](https://en.wikipedia.org/wiki/Roads_in_the_United_Kingdom)|\n",
    "|**Single Track Roads**| Roads often found within the countryside that allows one car to pass at a time using passing places| [Single Track](https://www.scotlandinfo.eu/driving-single-track-roads-in-scotland/)|\n",
    " "
   ]
  },
  {
   "cell_type": "markdown",
   "id": "832fb703-cdbc-4457-94a7-faca095efb14",
   "metadata": {},
   "source": [
    "## Description:\n",
    "\n"
   ]
  }
 ],
 "metadata": {
  "kernelspec": {
   "display_name": "Python 3 (ipykernel)",
   "language": "python",
   "name": "python3"
  },
  "language_info": {
   "codemirror_mode": {
    "name": "ipython",
    "version": 3
   },
   "file_extension": ".py",
   "mimetype": "text/x-python",
   "name": "python",
   "nbconvert_exporter": "python",
   "pygments_lexer": "ipython3",
   "version": "3.11.6"
  }
 },
 "nbformat": 4,
 "nbformat_minor": 5
}
